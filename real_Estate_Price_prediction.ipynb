{
 "cells": [
  {
   "cell_type": "code",
   "execution_count": 1,
   "metadata": {},
   "outputs": [],
   "source": [
    "import pandas as pd\n",
    "import joblib\n",
    "from sklearn.model_selection import train_test_split\n",
    "from sklearn.linear_model import LinearRegression\n",
    "from dash import Dash, html, dcc, Input, Output, State\n",
    "import os\n",
    "\n",
    "# Load the dataset\n",
    "real_estate_data = pd.read_csv(\"Real_Estate.csv\")  # Replace with your actual file path\n",
    "\n",
    "# Selecting features and target variable\n",
    "features = ['Distance to the nearest MRT station', 'Number of convenience stores', 'Latitude', 'Longitude']\n",
    "target = 'House price of unit area'\n",
    "\n",
    "X = real_estate_data[features]\n",
    "y = real_estate_data[target]\n",
    "\n",
    "# Splitting the dataset into training and testing sets\n",
    "X_train, X_test, y_train, y_test = train_test_split(X, y, test_size=0.2, random_state=42)\n",
    "\n",
    "# Check if the model has been saved, otherwise train and save it\n",
    "if not os.path.exists('linear_regression_model.pkl'):\n",
    "    # Model initialization\n",
    "    model = LinearRegression()\n",
    "    \n",
    "    # Training the model\n",
    "    model.fit(X_train, y_train)\n",
    "    \n",
    "    # Saving the trained model\n",
    "    joblib.dump(model, 'linear_regression_model.pkl')\n",
    "else:\n",
    "    # Load the saved model\n",
    "    model = joblib.load('linear_regression_model.pkl')\n",
    "\n",
    "# Initialize the Dash app\n",
    "app = Dash(__name__)\n",
    "\n",
    "# Define the layout of the app\n",
    "app.layout = html.Div([\n",
    "    html.Div([\n",
    "        html.H1(\"Real Estate Price Prediction\", style={'text-align': 'center'}),\n",
    "        \n",
    "        html.Div([\n",
    "            dcc.Input(id='distance_to_mrt', type='number', placeholder='Distance to MRT Station (meters)',\n",
    "                      style={'margin': '10px', 'padding': '10px'}),\n",
    "            dcc.Input(id='num_convenience_stores', type='number', placeholder='Number of Convenience Stores',\n",
    "                      style={'margin': '10px', 'padding': '10px'}),\n",
    "            dcc.Input(id='latitude', type='number', placeholder='Latitude',\n",
    "                      style={'margin': '10px', 'padding': '10px'}),\n",
    "            dcc.Input(id='longitude', type='number', placeholder='Longitude',\n",
    "                      style={'margin': '10px', 'padding': '10px'}),\n",
    "            html.Button('Predict Price', id='predict_button', n_clicks=0,\n",
    "                        style={'margin': '10px', 'padding': '10px', 'background-color': '#007BFF', 'color': 'white'}),\n",
    "        ], style={'text-align': 'center'}),\n",
    "        \n",
    "        html.Div(id='prediction_output', style={'text-align': 'center', 'font-size': '20px', 'margin-top': '20px'})\n",
    "    ], style={'width': '50%', 'margin': '0 auto', 'border': '2px solid #007BFF', 'padding': '20px', 'border-radius': '10px'})\n",
    "])\n",
    "\n"
   ]
  },
  {
   "cell_type": "code",
   "execution_count": 2,
   "metadata": {},
   "outputs": [
    {
     "data": {
      "text/html": [
       "\n",
       "        <iframe\n",
       "            width=\"100%\"\n",
       "            height=\"650\"\n",
       "            src=\"http://127.0.0.1:8050/\"\n",
       "            frameborder=\"0\"\n",
       "            allowfullscreen\n",
       "            \n",
       "        ></iframe>\n",
       "        "
      ],
      "text/plain": [
       "<IPython.lib.display.IFrame at 0x282982af410>"
      ]
     },
     "metadata": {},
     "output_type": "display_data"
    }
   ],
   "source": [
    "# Define callback to update output\n",
    "@app.callback(\n",
    "    Output('prediction_output', 'children'),\n",
    "    [Input('predict_button', 'n_clicks')],\n",
    "    [State('distance_to_mrt', 'value'), \n",
    "     State('num_convenience_stores', 'value'),\n",
    "     State('latitude', 'value'),\n",
    "     State('longitude', 'value')]\n",
    ")\n",
    "def update_output(n_clicks, distance_to_mrt, num_convenience_stores, latitude, longitude):\n",
    "    if n_clicks > 0:\n",
    "        if all(v is not None for v in [distance_to_mrt, num_convenience_stores, latitude, longitude]):\n",
    "            try:\n",
    "                # Prepare the feature vector\n",
    "                features = pd.DataFrame([[distance_to_mrt, num_convenience_stores, latitude, longitude]], \n",
    "                                        columns=['Distance to the nearest MRT station', 'Number of convenience stores', 'Latitude', 'Longitude'])\n",
    "                \n",
    "                # Predict using the loaded model\n",
    "                prediction = model.predict(features)[0]\n",
    "                return f'Predicted House Price of Unit Area: {prediction:.2f}'\n",
    "            except Exception as e:\n",
    "                return f\"Error in prediction: {str(e)}\"\n",
    "        else:\n",
    "            return 'Please enter all values to get a prediction'\n",
    "    return ''\n",
    "\n",
    "# Run the app\n",
    "if __name__ == '__main__':\n",
    "    app.run_server(debug=True)\n"
   ]
  },
  {
   "cell_type": "code",
   "execution_count": null,
   "metadata": {},
   "outputs": [],
   "source": []
  }
 ],
 "metadata": {
  "kernelspec": {
   "display_name": "base",
   "language": "python",
   "name": "python3"
  },
  "language_info": {
   "codemirror_mode": {
    "name": "ipython",
    "version": 3
   },
   "file_extension": ".py",
   "mimetype": "text/x-python",
   "name": "python",
   "nbconvert_exporter": "python",
   "pygments_lexer": "ipython3",
   "version": "3.11.5"
  }
 },
 "nbformat": 4,
 "nbformat_minor": 2
}
